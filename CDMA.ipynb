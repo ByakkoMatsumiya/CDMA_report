{
 "cells": [
  {
   "cell_type": "code",
   "execution_count": null,
   "metadata": {},
   "outputs": [],
   "source": [
    "import numpy as np\n",
    "import matplotlib.pyplot as plt"
   ]
  },
  {
   "cell_type": "code",
   "execution_count": null,
   "metadata": {},
   "outputs": [],
   "source": [
    "fs = 1 * (10 ** 8)\n",
    "fc = 2 * (10 ** 9)\n",
    "\n",
    "t = np.arange(0, 1e-6, 1/(fc * 30))\n",
    "\n",
    "bitstream1 = np.random.randint(0, 2, 100)\n",
    "bitstream2 = np.random.randint(0, 2, 100)\n",
    "bitstream3 = np.random.randint(0, 2, 100)\n",
    "\n",
    "bitstream1 = np.repeat(bitstream1, 600)\n",
    "bitstream2 = np.repeat(bitstream2, 600)\n",
    "bitstream3 = np.repeat(bitstream3, 600)\n",
    "\n",
    "plt.figure(figsize=(15, 6))\n",
    "plt.subplot(3, 1, 1)\n",
    "plt.xlim(0, 1e-7)\n",
    "plt.plot(t, bitstream1)\n",
    "plt.title('bitstream1')\n",
    "plt.subplot(3, 1, 2)\n",
    "plt.xlim(0, 1e-7)\n",
    "plt.plot(t, bitstream2)\n",
    "plt.title('bitstream2')\n",
    "plt.subplot(3, 1, 3)\n",
    "plt.xlim(0, 1e-7)\n",
    "plt.plot(t, bitstream3)\n",
    "plt.title('bitstream3')\n",
    "plt.tight_layout()\n",
    "plt.show()\n",
    "\n"
   ]
  },
  {
   "cell_type": "code",
   "execution_count": null,
   "metadata": {},
   "outputs": [],
   "source": [
    "N = 60000\n",
    "\n",
    "bs_fft = np.fft.rfft(bitstream1)\n",
    "\n",
    "freq = np.fft.rfftfreq(N, 1/N) * 1e6\n",
    "\n",
    "plt.figure(figsize=(12, 6))\n",
    "plt.plot(freq, bs_fft, lw=3)\n",
    "plt.xlim(0, 9e9)\n",
    "plt.xlabel('Frequency [GHz]')\n",
    "plt.ylabel('Amplitude')\n",
    "plt.title('FFT of bitstream1')\n",
    "plt.show()\n"
   ]
  },
  {
   "cell_type": "code",
   "execution_count": null,
   "metadata": {},
   "outputs": [],
   "source": [
    "t = np.arange(0, 1e-6, 1/(fc * 30))\n",
    "\n",
    "modulated_wave1 = np.sin(2 * np.pi * fc * t + bitstream1 * np.pi)\n",
    "modulated_wave2 = np.sin(2 * np.pi * fc * t + bitstream2 * np.pi)\n",
    "modulated_wave3 = np.sin(2 * np.pi * fc * t + bitstream3 * np.pi)\n"
   ]
  },
  {
   "cell_type": "code",
   "execution_count": null,
   "metadata": {},
   "outputs": [],
   "source": [
    "plt.figure(figsize=(15,6))\n",
    "plt.subplot(3, 1, 1)\n",
    "plt.xlim(0, 1e-7)\n",
    "plt.plot(t, modulated_wave1)\n",
    "plt.title('modulated_wave1')\n",
    "plt.subplot(3, 1, 2)\n",
    "plt.xlim(0, 1e-7)\n",
    "plt.plot(t, modulated_wave2)\n",
    "plt.title('modulated_wave2')\n",
    "plt.subplot(3, 1, 3)\n",
    "plt.xlim(0, 1e-7)\n",
    "plt.plot(t, modulated_wave3)\n",
    "plt.title('modulated_wave3')\n",
    "plt.tight_layout()\n",
    "plt.show()\n"
   ]
  },
  {
   "cell_type": "code",
   "execution_count": null,
   "metadata": {},
   "outputs": [],
   "source": [
    "md_fft = np.fft.rfft(modulated_wave1)\n",
    "\n",
    "plt.figure(figsize=(12, 6))\n",
    "plt.plot(freq, md_fft, lw=3)\n",
    "plt.xlim(0, 9e9)\n",
    "plt.xlabel('Frequency [GHz]')\n",
    "plt.ylabel('Amplitude')\n",
    "plt.title('FFT of bitstream1')\n",
    "plt.show()\n"
   ]
  },
  {
   "cell_type": "code",
   "execution_count": null,
   "metadata": {},
   "outputs": [],
   "source": [
    "PN1 = [1, 1, -1, -1]\n",
    "PN2 = [1, -1, -1, 1]\n",
    "PN3 = [-1, 1, -1, 1]\n",
    "\n",
    "PN1 = np.repeat(PN1, 10)\n",
    "PN2 = np.repeat(PN2, 10)\n",
    "PN3 = np.repeat(PN3, 10)\n",
    "\n",
    "PN1 = np.tile(PN1, 1500)\n",
    "PN2 = np.tile(PN2, 1500)\n",
    "PN3 = np.tile(PN3, 1500)\n"
   ]
  },
  {
   "cell_type": "code",
   "execution_count": null,
   "metadata": {},
   "outputs": [],
   "source": [
    "CDMA1 = modulated_wave1 * PN1\n",
    "CDMA2 = modulated_wave2 * PN2\n",
    "CDMA3 = modulated_wave3 * PN3\n",
    "\n",
    "TX_signal = CDMA1 + CDMA2 + CDMA3\n",
    "\n",
    "plt.figure(figsize=(15, 6))\n",
    "plt.xlim(0, 1e-7)\n",
    "plt.plot(t, TX_signal)\n",
    "plt.title('TX_signal')\n",
    "plt.show()\n"
   ]
  },
  {
   "cell_type": "code",
   "execution_count": null,
   "metadata": {},
   "outputs": [],
   "source": [
    "cdma1_fft = np.fft.rfft(CDMA1)\n",
    "\n",
    "plt.figure(figsize=(12, 6))\n",
    "plt.plot(freq, cdma1_fft, lw=3)\n",
    "plt.xlim(0, 9e9)\n",
    "plt.xlabel('Frequency [GHz]')\n",
    "plt.ylabel('Amplitude')\n",
    "plt.title('FFT of CDMA1')\n",
    "plt.show()"
   ]
  },
  {
   "cell_type": "code",
   "execution_count": null,
   "metadata": {},
   "outputs": [],
   "source": [
    "cdma_fft = np.fft.rfft(TX_signal)\n",
    "\n",
    "plt.figure(figsize=(12, 6))\n",
    "plt.plot(freq, cdma_fft, lw=3)\n",
    "plt.xlim(0, 9e9)\n",
    "plt.xlabel('Frequency [GHz]')\n",
    "plt.ylabel('Amplitude')\n",
    "plt.title('FFT of TX_signal')\n",
    "plt.show()"
   ]
  },
  {
   "cell_type": "code",
   "execution_count": null,
   "metadata": {},
   "outputs": [],
   "source": [
    "noise = np.random.normal(0, 0.1, len(TX_signal))\n",
    "\n",
    "RX_signal = TX_signal + noise\n",
    "\n",
    "plt.figure(figsize=(15, 6))\n",
    "\n",
    "plt.xlim(0, 1e-7)\n",
    "plt.plot(t, RX_signal)\n",
    "plt.title('RX_signal')\n",
    "plt.show()\n",
    "\n"
   ]
  },
  {
   "cell_type": "code",
   "execution_count": null,
   "metadata": {},
   "outputs": [],
   "source": [
    "cdma_noise_fft = np.fft.rfft(RX_signal)\n",
    "\n",
    "plt.figure(figsize=(12, 6))\n",
    "plt.plot(freq, cdma_noise_fft, lw=3)\n",
    "plt.xlim(0, 9e9)\n",
    "plt.xlabel('Frequency [GHz]')\n",
    "plt.ylabel('Amplitude')\n",
    "plt.title('FFT of RX_signal')\n",
    "plt.show()"
   ]
  },
  {
   "cell_type": "code",
   "execution_count": null,
   "metadata": {},
   "outputs": [],
   "source": [
    "correlation1 = RX_signal * PN1\n",
    "correlation2 = RX_signal * PN2\n",
    "correlation3 = RX_signal * PN3\n",
    "\n",
    "plt.figure(figsize=(15, 6))\n",
    "plt.subplot(3, 1, 1)\n",
    "plt.xlim(0, 1e-7)\n",
    "plt.plot(t, correlation1)\n",
    "plt.title('correlation1')\n",
    "plt.subplot(3, 1, 2)\n",
    "plt.xlim(0, 1e-7)\n",
    "plt.plot(t, correlation2)\n",
    "plt.title('correlation2')\n",
    "plt.subplot(3, 1, 3)\n",
    "plt.xlim(0, 1e-7)\n",
    "plt.plot(t, correlation3)\n",
    "plt.title('correlation3')\n",
    "plt.tight_layout()\n",
    "plt.show()\n"
   ]
  },
  {
   "cell_type": "code",
   "execution_count": null,
   "metadata": {},
   "outputs": [],
   "source": [
    "cr_fft = np.fft.rfft(correlation1)\n",
    "\n",
    "plt.figure(figsize=(12, 6))\n",
    "plt.plot(freq, cr_fft, lw=3)\n",
    "plt.xlim(0, 9e9)\n",
    "plt.xlabel('Frequency [GHz]')\n",
    "plt.ylabel('Amplitude')\n",
    "plt.title('FFT of correlation1')\n",
    "plt.show()"
   ]
  },
  {
   "cell_type": "code",
   "execution_count": null,
   "metadata": {},
   "outputs": [],
   "source": [
    "sync_wave = 3 * np.sin(2 * np.pi * fc * t + np.pi)\n",
    "\n",
    "signal1_sync = correlation1 * sync_wave\n",
    "signal2_sync = correlation2 * sync_wave\n",
    "signal3_sync = correlation3 * sync_wave\n",
    "\n",
    "signal1_sync_fft = np.fft.rfft(signal1_sync)\n",
    "signal2_sync_fft = np.fft.rfft(signal2_sync)\n",
    "signal3_sync_fft = np.fft.rfft(signal3_sync)\n",
    "\n",
    "signal1_sync_fft[(freq > 7e8)] = 0\n",
    "signal2_sync_fft[(freq > 7e8)] = 0\n",
    "signal3_sync_fft[(freq > 7e8)] = 0\n",
    "\n",
    "signal1 = np.fft.irfft(signal1_sync_fft)\n",
    "signal2 = np.fft.irfft(signal2_sync_fft)\n",
    "signal3 = np.fft.irfft(signal3_sync_fft)\n",
    "\n",
    "plt.figure(figsize=(15, 6))\n",
    "plt.subplot(3, 1, 1)\n",
    "plt.xlim(0, 1e-7)\n",
    "plt.plot(t, signal1)\n",
    "plt.title('decord_signal1')\n",
    "plt.subplot(3, 1, 2)\n",
    "plt.xlim(0, 1e-7)\n",
    "plt.plot(t, signal2)\n",
    "plt.title('decord_signal2')\n",
    "plt.subplot(3, 1, 3)\n",
    "plt.xlim(0, 1e-7)\n",
    "plt.plot(t, signal3)\n",
    "plt.title('decord_signal3')\n",
    "plt.tight_layout()\n",
    "plt.show()\n"
   ]
  },
  {
   "cell_type": "code",
   "execution_count": null,
   "metadata": {},
   "outputs": [],
   "source": [
    "sig_fft = np.fft.rfft(signal1)\n",
    "\n",
    "plt.figure(figsize=(12, 6))\n",
    "plt.plot(freq, sig_fft, lw=3)\n",
    "plt.xlim(0, 9e9)\n",
    "plt.xlabel('Frequency [GHz]')\n",
    "plt.ylabel('Amplitude')\n",
    "plt.title('FFT of decord_signal1')\n",
    "plt.show()"
   ]
  },
  {
   "cell_type": "code",
   "execution_count": null,
   "metadata": {},
   "outputs": [],
   "source": [
    "sig1_reshape = np.where(signal1 > 0, 1, 0)\n",
    "sig2_reshape = np.where(signal2 > 0, 1, 0)\n",
    "sig3_reshape = np.where(signal3 > 0, 1, 0)\n",
    "\n",
    "plt.figure(figsize=(15, 6))\n",
    "plt.subplot(3, 1, 1)\n",
    "plt.xlim(0, 1e-7)\n",
    "plt.plot(t, sig1_reshape)\n",
    "plt.title('signal1_reshape')\n",
    "plt.subplot(3, 1, 2)\n",
    "plt.xlim(0, 1e-7)\n",
    "plt.plot(t, sig2_reshape)\n",
    "plt.title('signal2_reshape')\n",
    "plt.subplot(3, 1, 3)\n",
    "plt.xlim(0, 1e-7)\n",
    "plt.plot(t, sig3_reshape)\n",
    "plt.title('signal3_reshape')\n",
    "plt.tight_layout()\n",
    "plt.show()"
   ]
  }
 ],
 "metadata": {
  "kernelspec": {
   "display_name": "Python 3",
   "language": "python",
   "name": "python3"
  },
  "language_info": {
   "codemirror_mode": {
    "name": "ipython",
    "version": 3
   },
   "file_extension": ".py",
   "mimetype": "text/x-python",
   "name": "python",
   "nbconvert_exporter": "python",
   "pygments_lexer": "ipython3",
   "version": "3.11.9"
  }
 },
 "nbformat": 4,
 "nbformat_minor": 2
}
